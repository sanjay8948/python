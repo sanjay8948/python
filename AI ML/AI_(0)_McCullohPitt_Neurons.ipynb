{
 "cells": [
  {
   "cell_type": "markdown",
   "metadata": {},
   "source": [
    "# Mc Culloh Pitt neuron"
   ]
  },
  {
   "cell_type": "code",
   "execution_count": 1,
   "metadata": {},
   "outputs": [],
   "source": [
    "from random import choice\n",
    "from numpy import array, dot, random\n",
    "import numpy as np"
   ]
  },
  {
   "cell_type": "markdown",
   "metadata": {},
   "source": [
    "### AND Gate"
   ]
  },
  {
   "cell_type": "code",
   "execution_count": 2,
   "metadata": {},
   "outputs": [],
   "source": [
    "w = random.rand(2)\n",
    "w[0] = 1\n",
    "w[1] = 1\n",
    "\n",
    "training_data = [\n",
    "    (array([0,0]), 0),\n",
    "    (array([0,1]), 0),\n",
    "    (array([1,0]), 0),\n",
    "    (array([1,1]), 1)\n",
    "]\n",
    "\n",
    "step_function = lambda x: 0 if x < 2 else 1          # Step function with threshold of 2. Anything b"
   ]
  },
  {
   "cell_type": "code",
   "execution_count": 3,
   "metadata": {},
   "outputs": [
    {
     "name": "stdout",
     "output_type": "stream",
     "text": [
      "[0 0] : 0.0 -> 0\n",
      "[0 1] : 1.0 -> 0\n",
      "[1 0] : 1.0 -> 0\n",
      "[1 1] : 2.0 -> 1\n"
     ]
    }
   ],
   "source": [
    "for x, _ in training_data:\n",
    "    result = dot(x, w)\n",
    "    \n",
    "    print('{} : {} -> {}'.format(x[:2], result, step_function(result)))"
   ]
  },
  {
   "cell_type": "markdown",
   "metadata": {},
   "source": [
    "### OR Gate"
   ]
  },
  {
   "cell_type": "code",
   "execution_count": 7,
   "metadata": {},
   "outputs": [],
   "source": [
    "training_data = [\n",
    "    (array([0, 0]), 0),\n",
    "    (array([0, 1]), 1),\n",
    "    (array([1, 0]), 1),\n",
    "    (array([1, 1]), 1)\n",
    "]\n",
    "\n",
    "step_function = lambda x : 0 if x < 1 else 1            # step function with threshold of 1. Anything b "
   ]
  },
  {
   "cell_type": "code",
   "execution_count": 8,
   "metadata": {},
   "outputs": [
    {
     "name": "stdout",
     "output_type": "stream",
     "text": [
      "[0 0] : 0.0 -> 0\n",
      "[0 1] : 1.0 -> 1\n",
      "[1 0] : 1.0 -> 1\n",
      "[1 1] : 2.0 -> 1\n"
     ]
    }
   ],
   "source": [
    "for x, _ in training_data:\n",
    "    result = dot(x,w)\n",
    "    \n",
    "    print('{} : {} -> {}'.format(x[:2], result,step_function(result)))"
   ]
  },
  {
   "cell_type": "code",
   "execution_count": null,
   "metadata": {},
   "outputs": [],
   "source": []
  }
 ],
 "metadata": {
  "kernelspec": {
   "display_name": "Python 3",
   "language": "python",
   "name": "python3"
  },
  "language_info": {
   "codemirror_mode": {
    "name": "ipython",
    "version": 3
   },
   "file_extension": ".py",
   "mimetype": "text/x-python",
   "name": "python",
   "nbconvert_exporter": "python",
   "pygments_lexer": "ipython3",
   "version": "3.7.6"
  }
 },
 "nbformat": 4,
 "nbformat_minor": 4
}

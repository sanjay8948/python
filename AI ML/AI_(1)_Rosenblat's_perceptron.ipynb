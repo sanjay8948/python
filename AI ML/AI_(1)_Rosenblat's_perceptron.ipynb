{
 "cells": [
  {
   "cell_type": "markdown",
   "metadata": {},
   "source": [
    "# Rosenblat's Perceptron"
   ]
  },
  {
   "cell_type": "markdown",
   "metadata": {},
   "source": [
    "Rosenblat's perceptron included a way to adjust the weights and find the appropriate combination . to overcome the need to modify threshold for each gate seperately, it used a bias term using which neuron can be modified  to implement multiple Boolean functions inn one code."
   ]
  },
  {
   "cell_type": "code",
   "execution_count": 1,
   "metadata": {},
   "outputs": [],
   "source": [
    "from random import choice\n",
    "from numpy import array, dot, random\n",
    "import numpy as np"
   ]
  },
  {
   "cell_type": "markdown",
   "metadata": {},
   "source": [
    "### AND Gate"
   ]
  },
  {
   "cell_type": "code",
   "execution_count": 2,
   "metadata": {},
   "outputs": [
    {
     "name": "stdout",
     "output_type": "stream",
     "text": [
      "[0 0 1] : 16.65063470924144 -> 0\n",
      "[0 1 1] : 33.42227580513096 -> 0\n",
      "[1 0 1] : 33.36582694671713 -> 0\n",
      "[1 1 1] : 50.13746804260664 -> 1\n"
     ]
    }
   ],
   "source": [
    "step_function = lambda x : 0 if x < 50 else 1\n",
    "\n",
    "training_data = [\n",
    "    (array([0, 0, 1]), 0),\n",
    "    (array([0, 1, 1]), 0),\n",
    "    (array([1, 0, 1]), 0),\n",
    "    (array([1, 1, 1]), 1)\n",
    "]\n",
    "\n",
    "w = random.rand(3)\n",
    "b = 0.1\n",
    "errors = []\n",
    "eta = 0.1\n",
    "n = 10000\n",
    "\n",
    "for i in range(n):\n",
    "    x, expected = choice(training_data)\n",
    "    \n",
    "    # np.append(w,b)\n",
    "    result = dot(w,x)\n",
    "    error = expected - step_function(result)\n",
    "    errors.append(error)\n",
    "    w += eta * error * x\n",
    "    \n",
    "    \n",
    "for x,_ in training_data:\n",
    "    result = dot(x, w)\n",
    "    \n",
    "    print('{} : {} -> {}'.format(x[:3], result, step_function(result)))"
   ]
  },
  {
   "cell_type": "markdown",
   "metadata": {},
   "source": [
    "### OR Gate"
   ]
  },
  {
   "cell_type": "code",
   "execution_count": 3,
   "metadata": {},
   "outputs": [
    {
     "name": "stdout",
     "output_type": "stream",
     "text": [
      "[0 0 1] : 31.034108969189745 -> 0\n",
      "[0 1 1] : 51.03951749389512 -> 1\n",
      "[1 0 1] : 50.016952879511166 -> 1\n",
      "[1 1 1] : 70.02236140421654 -> 1\n"
     ]
    }
   ],
   "source": [
    "step_function = lambda x : 0 if x < 50 else 1\n",
    "\n",
    "training_data = [\n",
    "    (array([0, 0, 1]), 0),\n",
    "    (array([0, 1, 1]), 1),\n",
    "    (array([1, 0, 1]), 1),\n",
    "    (array([1, 1, 1]), 1)\n",
    "]\n",
    "\n",
    "w = random.rand(3)\n",
    "b = 0.1\n",
    "errors = []\n",
    "eta = 0.1\n",
    "n = 10000\n",
    "\n",
    "for i in range(n):\n",
    "    x, expected = choice(training_data)\n",
    "    \n",
    "    # np.append(w,b)\n",
    "    result = dot(w,x)\n",
    "    error = expected - step_function(result)\n",
    "    errors.append(error)\n",
    "    w += eta * error * x\n",
    "    \n",
    "    \n",
    "for x,_ in training_data:\n",
    "    result = dot(x, w)\n",
    "    \n",
    "    print('{} : {} -> {}'.format(x[:3], result, step_function(result)))"
   ]
  },
  {
   "cell_type": "markdown",
   "metadata": {},
   "source": [
    "### XOR Gate"
   ]
  },
  {
   "cell_type": "markdown",
   "metadata": {},
   "source": [
    "it is not working for XOR gate."
   ]
  },
  {
   "cell_type": "code",
   "execution_count": 8,
   "metadata": {},
   "outputs": [
    {
     "name": "stdout",
     "output_type": "stream",
     "text": [
      "[0 0 1] : 50.031905620891074 -> 1\n",
      "[0 1 1] : 49.93440515637533 -> 0\n",
      "[1 0 1] : 50.1243255360269 -> 1\n",
      "[1 1 1] : 50.026825071511155 -> 1\n"
     ]
    }
   ],
   "source": [
    "step_function = lambda x : 0 if x < 50 else 1\n",
    "\n",
    "training_data = [\n",
    "    (array([0, 0, 1]), 1),\n",
    "    (array([0, 1, 1]), 0),\n",
    "    (array([1, 0, 1]), 0),\n",
    "    (array([1, 1, 1]), 1)\n",
    "]\n",
    "\n",
    "w = random.rand(3)\n",
    "b = 0.1\n",
    "errors = []\n",
    "eta = 0.1\n",
    "n = 10000\n",
    "\n",
    "for i in range(n):\n",
    "    x, expected = choice(training_data)\n",
    "    \n",
    "    # np.append(w,b)\n",
    "    result = dot(w,x)\n",
    "    error = expected - step_function(result)\n",
    "    errors.append(error)\n",
    "    w += eta * error * x\n",
    "    \n",
    "    \n",
    "for x,_ in training_data:\n",
    "    result = dot(x, w)\n",
    "    \n",
    "    print('{} : {} -> {}'.format(x[:3], result, step_function(result)))"
   ]
  },
  {
   "cell_type": "markdown",
   "metadata": {},
   "source": [
    "So we have to connect more neuron to each other for XOR Gate called neural network"
   ]
  },
  {
   "cell_type": "code",
   "execution_count": null,
   "metadata": {},
   "outputs": [],
   "source": []
  }
 ],
 "metadata": {
  "kernelspec": {
   "display_name": "Python 3",
   "language": "python",
   "name": "python3"
  },
  "language_info": {
   "codemirror_mode": {
    "name": "ipython",
    "version": 3
   },
   "file_extension": ".py",
   "mimetype": "text/x-python",
   "name": "python",
   "nbconvert_exporter": "python",
   "pygments_lexer": "ipython3",
   "version": "3.7.6"
  }
 },
 "nbformat": 4,
 "nbformat_minor": 4
}
